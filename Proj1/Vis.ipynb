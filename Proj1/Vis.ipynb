{
 "cells": [
  {
   "cell_type": "code",
   "execution_count": 1,
   "metadata": {},
   "outputs": [],
   "source": [
    "from SiameseNet import SiameseNet\n",
    "import torch\n",
    "import torch.onnx as onnx\n",
    "from torch.autograd import Variable"
   ]
  },
  {
   "cell_type": "code",
   "execution_count": 2,
   "metadata": {},
   "outputs": [],
   "source": [
    "net = SiameseNet()"
   ]
  },
  {
   "cell_type": "code",
   "execution_count": 6,
   "metadata": {},
   "outputs": [],
   "source": [
    "dummy_input = Variable(torch.randn(1000, 2, 14, 14))\n",
    "torch.onnx.export(net, dummy_input, \"snn.onnx\")"
   ]
  },
  {
   "cell_type": "code",
   "execution_count": 4,
   "metadata": {},
   "outputs": [
    {
     "name": "stdout",
     "output_type": "stream",
     "text": [
      "\u001b[34mArchive\u001b[m\u001b[m                   \u001b[31mdlc_practical_prologue.py\u001b[m\u001b[m test.py\r\n",
      "PairDataset.py            snn.onnx                  test_accuracy.pt\r\n",
      "SiameseNet.py             snn.pdf                   test_loss.pt\r\n",
      "SiameseNetworks_train.py  snn.svg                   train_accuracy.pt\r\n",
      "Vis.ipynb                 snn_aux.onnx              train_loss.pt\r\n",
      "\u001b[34m__pycache__\u001b[m\u001b[m               snn_aux.svg               train_records.txt\r\n",
      "\u001b[34mdata\u001b[m\u001b[m                      snn_test.onnx             train_time.pt\r\n"
     ]
    }
   ],
   "source": []
  },
  {
   "cell_type": "code",
   "execution_count": null,
   "metadata": {},
   "outputs": [],
   "source": []
  }
 ],
 "metadata": {
  "kernelspec": {
   "display_name": "Python 3",
   "language": "python",
   "name": "python3"
  },
  "language_info": {
   "codemirror_mode": {
    "name": "ipython",
    "version": 3
   },
   "file_extension": ".py",
   "mimetype": "text/x-python",
   "name": "python",
   "nbconvert_exporter": "python",
   "pygments_lexer": "ipython3",
   "version": "3.7.2"
  },
  "toc": {
   "base_numbering": 1,
   "nav_menu": {},
   "number_sections": true,
   "sideBar": true,
   "skip_h1_title": false,
   "title_cell": "Table of Contents",
   "title_sidebar": "Contents",
   "toc_cell": false,
   "toc_position": {},
   "toc_section_display": true,
   "toc_window_display": false
  }
 },
 "nbformat": 4,
 "nbformat_minor": 2
}

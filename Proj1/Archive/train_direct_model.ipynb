{
 "cells": [
  {
   "cell_type": "code",
   "execution_count": 1,
   "metadata": {},
   "outputs": [],
   "source": [
    "import torch\n",
    "from model import *\n",
    "from torch.utils import data"
   ]
  },
  {
   "cell_type": "code",
   "execution_count": 2,
   "metadata": {},
   "outputs": [],
   "source": [
    "train = torch.load('./data/train.pt')\n",
    "test = torch.load('./data/test.pt')"
   ]
  },
  {
   "cell_type": "code",
   "execution_count": 3,
   "metadata": {},
   "outputs": [],
   "source": [
    "train_dataset = data.TensorDataset(train[0], train[1].reshape((-1,1)))\n",
    "train_dataloader = data.DataLoader(train_dataset, batch_size=10,shuffle=True)\n",
    "test_dataset = data.TensorDataset(test[0], test[1].reshape((-1,1)))\n",
    "test_dataloader = data.DataLoader(test_dataset, batch_size=10,shuffle=True)"
   ]
  },
  {
   "cell_type": "code",
   "execution_count": 4,
   "metadata": {},
   "outputs": [],
   "source": [
    "d = direct_model()\n",
    "solver = torch.optim.SGD(d.parameters(),lr = 3e-3)\n",
    "# solver = torch.optim.Adam(d.parameters(), lr=1.5e-4)"
   ]
  },
  {
   "cell_type": "code",
   "execution_count": 5,
   "metadata": {
    "scrolled": true
   },
   "outputs": [
    {
     "name": "stdout",
     "output_type": "stream",
     "text": [
      "epoch 0/25 loss 0.300310 acc on test set 0.594000\n",
      "epoch 1/25 loss 0.288097 acc on test set 0.661000\n",
      "epoch 2/25 loss 0.193325 acc on test set 0.675000\n",
      "epoch 3/25 loss 0.151858 acc on test set 0.665000\n",
      "epoch 4/25 loss 0.228040 acc on test set 0.715000\n",
      "epoch 5/25 loss 0.198279 acc on test set 0.736000\n",
      "epoch 6/25 loss 0.107755 acc on test set 0.748000\n",
      "epoch 7/25 loss 0.242368 acc on test set 0.746000\n",
      "epoch 8/25 loss 0.215023 acc on test set 0.747000\n",
      "epoch 9/25 loss 0.143147 acc on test set 0.738000\n",
      "epoch 10/25 loss 0.231399 acc on test set 0.761000\n",
      "epoch 11/25 loss 0.071507 acc on test set 0.767000\n",
      "epoch 12/25 loss 0.144927 acc on test set 0.752000\n",
      "epoch 13/25 loss 0.256749 acc on test set 0.743000\n",
      "epoch 14/25 loss 0.217979 acc on test set 0.762000\n",
      "epoch 15/25 loss 0.106032 acc on test set 0.765000\n",
      "epoch 16/25 loss 0.052697 acc on test set 0.758000\n",
      "epoch 17/25 loss 0.096924 acc on test set 0.761000\n",
      "epoch 18/25 loss 0.343057 acc on test set 0.756000\n",
      "epoch 19/25 loss 0.139159 acc on test set 0.755000\n",
      "epoch 20/25 loss 0.124482 acc on test set 0.755000\n",
      "epoch 21/25 loss 0.096604 acc on test set 0.762000\n",
      "epoch 22/25 loss 0.160026 acc on test set 0.755000\n",
      "epoch 23/25 loss 0.124459 acc on test set 0.759000\n",
      "epoch 24/25 loss 0.059711 acc on test set 0.769000\n"
     ]
    }
   ],
   "source": [
    "for epoch in range(25):\n",
    "    # train\n",
    "    d.train()\n",
    "    for i, (img, label) in enumerate(train_dataloader):\n",
    "        label = label.float()\n",
    "        predicted_label = d(img)\n",
    "        loss = torch.mean(-(label*torch.log10(predicted_label) + (1-label)*torch.log10(1-predicted_label)))\n",
    "        d.zero_grad()\n",
    "        loss.backward()\n",
    "        solver.step()\n",
    "    # eval on test set\n",
    "    d.eval()\n",
    "    acc = []\n",
    "    for j, (test_img, test_label) in enumerate(test_dataloader):\n",
    "        predicted_label = d(test_img)\n",
    "        predicted_label = (predicted_label>=0.5)\n",
    "        acc.append(torch.mean((test_label.float()==predicted_label.float()).float()))\n",
    "    acc = torch.tensor(acc)\n",
    "    print('epoch %d/25 loss %f acc on test set %f'%(epoch, loss.item(), torch.mean(acc).item()))"
   ]
  }
 ],
 "metadata": {
  "kernelspec": {
   "display_name": "Python 3",
   "language": "python",
   "name": "python3"
  },
  "language_info": {
   "codemirror_mode": {
    "name": "ipython",
    "version": 3
   },
   "file_extension": ".py",
   "mimetype": "text/x-python",
   "name": "python",
   "nbconvert_exporter": "python",
   "pygments_lexer": "ipython3",
   "version": "3.7.2"
  },
  "toc": {
   "base_numbering": 1,
   "nav_menu": {},
   "number_sections": true,
   "sideBar": true,
   "skip_h1_title": false,
   "title_cell": "Table of Contents",
   "title_sidebar": "Contents",
   "toc_cell": false,
   "toc_position": {},
   "toc_section_display": true,
   "toc_window_display": false
  }
 },
 "nbformat": 4,
 "nbformat_minor": 2
}

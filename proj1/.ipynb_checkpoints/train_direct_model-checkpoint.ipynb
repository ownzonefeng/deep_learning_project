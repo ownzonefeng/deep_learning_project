{
 "cells": [
  {
   "cell_type": "code",
   "execution_count": 1,
   "metadata": {},
   "outputs": [],
   "source": [
    "import torch\n",
    "from model import *\n",
    "from torch.utils import data"
   ]
  },
  {
   "cell_type": "code",
   "execution_count": 2,
   "metadata": {},
   "outputs": [],
   "source": [
    "train = torch.load('./data/train.pt')\n",
    "test = torch.load('./data/test.pt')"
   ]
  },
  {
   "cell_type": "code",
   "execution_count": 3,
   "metadata": {},
   "outputs": [],
   "source": [
    "train_dataset = data.TensorDataset(train[0], train[1].reshape((-1,1)))\n",
    "train_dataloader = data.DataLoader(train_dataset, batch_size=10,shuffle=True)\n",
    "test_dataset = data.TensorDataset(test[0], test[1].reshape((-1,1)))\n",
    "test_dataloader = data.DataLoader(test_dataset, batch_size=10,shuffle=True)"
   ]
  },
  {
   "cell_type": "code",
   "execution_count": 8,
   "metadata": {},
   "outputs": [],
   "source": [
    "d = direct_model()\n",
    "solver = torch.optim.SGD(d.parameters(),lr = 4e-3)\n",
    "# solver = torch.optim.Adam(d.parameters(), lr=1.5e-4)"
   ]
  },
  {
   "cell_type": "code",
   "execution_count": 9,
   "metadata": {
    "scrolled": true
   },
   "outputs": [
    {
     "name": "stdout",
     "output_type": "stream",
     "text": [
      "epoch 0/25 loss 0.266175 acc 0.523000\n",
      "epoch 1/25 loss 0.241342 acc 0.588000\n",
      "epoch 2/25 loss 0.380183 acc 0.641000\n",
      "epoch 3/25 loss 0.210300 acc 0.686000\n",
      "epoch 4/25 loss 0.236643 acc 0.688000\n",
      "epoch 5/25 loss 0.094997 acc 0.733000\n",
      "epoch 6/25 loss 0.173182 acc 0.724000\n",
      "epoch 7/25 loss 0.126821 acc 0.749000\n",
      "epoch 8/25 loss 0.193470 acc 0.737000\n",
      "epoch 9/25 loss 0.101441 acc 0.737000\n",
      "epoch 10/25 loss 0.077202 acc 0.756000\n",
      "epoch 11/25 loss 0.186209 acc 0.741000\n",
      "epoch 12/25 loss 0.062586 acc 0.746000\n",
      "epoch 13/25 loss 0.278978 acc 0.756000\n",
      "epoch 14/25 loss 0.081798 acc 0.755000\n",
      "epoch 15/25 loss 0.172995 acc 0.732000\n",
      "epoch 16/25 loss 0.145391 acc 0.753000\n",
      "epoch 17/25 loss 0.106212 acc 0.720000\n",
      "epoch 18/25 loss 0.067801 acc 0.758000\n",
      "epoch 19/25 loss 0.148775 acc 0.756000\n",
      "epoch 20/25 loss 0.040884 acc 0.756000\n",
      "epoch 21/25 loss 0.012268 acc 0.771000\n",
      "epoch 22/25 loss 0.099912 acc 0.776000\n",
      "epoch 23/25 loss 0.040590 acc 0.768000\n",
      "epoch 24/25 loss 0.046221 acc 0.766000\n"
     ]
    }
   ],
   "source": [
    "for epoch in range(25):\n",
    "    # train\n",
    "    d.train()\n",
    "    for i, (img, label) in enumerate(train_dataloader):\n",
    "        label = label.float()\n",
    "        predicted_label = d(img)\n",
    "        loss = torch.mean(-(label*torch.log10(predicted_label) + (1-label)*torch.log10(1-predicted_label)))\n",
    "        d.zero_grad()\n",
    "        loss.backward()\n",
    "        solver.step()\n",
    "    # eval on test set\n",
    "    d.eval()\n",
    "    acc = []\n",
    "    for j, (test_img, test_label) in enumerate(test_dataloader):\n",
    "        predicted_label = d(test_img)\n",
    "        predicted_label = (predicted_label>=0.5)\n",
    "        acc.append(torch.mean((test_label.float()==predicted_label.float()).float()))\n",
    "    acc = torch.tensor(acc)\n",
    "    print('epoch %d/25 loss %f acc %f'%(epoch, loss.item(), torch.mean(acc).item()))"
   ]
  }
 ],
 "metadata": {
  "kernelspec": {
   "display_name": "Python 3",
   "language": "python",
   "name": "python3"
  },
  "language_info": {
   "codemirror_mode": {
    "name": "ipython",
    "version": 3
   },
   "file_extension": ".py",
   "mimetype": "text/x-python",
   "name": "python",
   "nbconvert_exporter": "python",
   "pygments_lexer": "ipython3",
   "version": "3.6.6"
  }
 },
 "nbformat": 4,
 "nbformat_minor": 2
}

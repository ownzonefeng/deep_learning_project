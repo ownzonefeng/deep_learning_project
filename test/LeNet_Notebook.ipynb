{
 "cells": [
  {
   "cell_type": "code",
   "execution_count": 19,
   "metadata": {},
   "outputs": [],
   "source": [
    "import dlc_practical_prologue as prologue\n",
    "import matplotlib.pyplot as plt\n",
    "from LeNet import LeNet"
   ]
  },
  {
   "cell_type": "code",
   "execution_count": 2,
   "metadata": {},
   "outputs": [],
   "source": [
    "import torch\n",
    "import torch.nn as nn\n",
    "import torch.optim as optim\n",
    "from torchvision.datasets.mnist import MNIST\n",
    "import torchvision.transforms as transforms\n",
    "from torch.utils.data import DataLoader"
   ]
  },
  {
   "cell_type": "code",
   "execution_count": 3,
   "metadata": {},
   "outputs": [],
   "source": [
    "data_train = MNIST('./data/mnist',\n",
    "                   download=True,\n",
    "                   transform=transforms.Compose([\n",
    "                       transforms.Resize((14, 14)),\n",
    "                       transforms.ToTensor()]))\n",
    "data_test = MNIST('./data/mnist',\n",
    "                  train=False,\n",
    "                  download=True,\n",
    "                  transform=transforms.Compose([\n",
    "                      transforms.Resize((14, 14)),\n",
    "                      transforms.ToTensor()]))\n",
    "data_train_loader = DataLoader(\n",
    "    data_train, batch_size=256, shuffle=True, num_workers=12)\n",
    "data_test_loader = DataLoader(data_test, batch_size=1024, num_workers=12)"
   ]
  },
  {
   "cell_type": "code",
   "execution_count": 21,
   "metadata": {},
   "outputs": [
    {
     "data": {
      "text/plain": [
       "torchvision.datasets.mnist.MNIST"
      ]
     },
     "execution_count": 21,
     "metadata": {},
     "output_type": "execute_result"
    }
   ],
   "source": [
    "type(data_test)"
   ]
  },
  {
   "cell_type": "code",
   "execution_count": 22,
   "metadata": {},
   "outputs": [],
   "source": [
    "net = LeNet()\n",
    "criterion = nn.CrossEntropyLoss()\n",
    "optimizer = optim.Adam(net.parameters(), lr=1.2e-2)"
   ]
  },
  {
   "cell_type": "code",
   "execution_count": 5,
   "metadata": {},
   "outputs": [],
   "source": [
    "def train(epoch):\n",
    "    net.train()\n",
    "    loss_list, batch_list = [], []\n",
    "    for i, (images, labels) in enumerate(data_train_loader):\n",
    "        optimizer.zero_grad()\n",
    "\n",
    "        output = net(images)\n",
    "        if i == 1:\n",
    "            a = output.detach()\n",
    "        \n",
    "        loss = criterion(output, labels)\n",
    "\n",
    "        loss_list.append(loss.detach().cpu().item())\n",
    "        batch_list.append(i+1)\n",
    "\n",
    "        loss.backward()\n",
    "        optimizer.step()\n",
    "    return loss_list, batch_list, epoch"
   ]
  },
  {
   "cell_type": "code",
   "execution_count": 6,
   "metadata": {},
   "outputs": [],
   "source": [
    "def test(epoch):\n",
    "    net.eval()\n",
    "    total_correct = 0\n",
    "    avg_loss = 0.0\n",
    "    for i, (images, labels) in enumerate(data_test_loader):\n",
    "        output = net(images)\n",
    "        avg_loss += criterion(output, labels).sum()\n",
    "        pred = output.detach().max(1)[1]\n",
    "        total_correct += pred.eq(labels.view_as(pred)).sum()\n",
    "\n",
    "    avg_loss /= len(data_test)\n",
    "    print('Epoch: %d, Test Avg. Loss: %f, Accuracy: %f' % (\n",
    "        epoch, avg_loss.detach().item(), float(total_correct) / len(data_test)))"
   ]
  },
  {
   "cell_type": "code",
   "execution_count": 7,
   "metadata": {},
   "outputs": [
    {
     "name": "stdout",
     "output_type": "stream",
     "text": [
      "Epoch: 1, Test Avg. Loss: 0.001589, Accuracy: 0.873000\n",
      "Epoch: 2, Test Avg. Loss: 0.001491, Accuracy: 0.972200\n",
      "Epoch: 3, Test Avg. Loss: 0.001488, Accuracy: 0.974500\n",
      "Epoch: 4, Test Avg. Loss: 0.001482, Accuracy: 0.980100\n"
     ]
    }
   ],
   "source": [
    "for i in range(4):\n",
    "    _, _, epo = train(i)\n",
    "    test(epo + 1)"
   ]
  },
  {
   "cell_type": "code",
   "execution_count": 23,
   "metadata": {},
   "outputs": [],
   "source": [
    "for i,(images, label) in enumerate(data_train_loader):\n",
    "    a = images\n",
    "    b = label\n",
    "    break"
   ]
  },
  {
   "cell_type": "code",
   "execution_count": 25,
   "metadata": {},
   "outputs": [
    {
     "data": {
      "text/plain": [
       "torch.Size([256, 1, 14, 14])"
      ]
     },
     "execution_count": 25,
     "metadata": {},
     "output_type": "execute_result"
    }
   ],
   "source": [
    "a.size()"
   ]
  },
  {
   "cell_type": "code",
   "execution_count": 27,
   "metadata": {},
   "outputs": [
    {
     "data": {
      "text/plain": [
       "tensor([8, 1, 0, 0, 6, 3, 0, 6, 4, 5, 8, 1, 0, 6, 2, 4, 7, 5, 3, 6, 9, 3, 1, 1,\n",
       "        8, 0, 3, 8, 0, 5, 0, 2, 1, 7, 1, 3, 2, 7, 2, 5, 8, 7, 4, 1, 6, 3, 2, 0,\n",
       "        8, 3, 8, 1, 7, 8, 2, 3, 8, 0, 4, 3, 3, 6, 8, 5, 2, 3, 3, 9, 9, 1, 9, 8,\n",
       "        3, 8, 0, 5, 5, 9, 4, 6, 6, 0, 5, 4, 0, 0, 2, 6, 1, 0, 8, 4, 6, 2, 0, 9,\n",
       "        5, 2, 3, 0, 7, 9, 4, 8, 3, 1, 2, 6, 5, 4, 7, 9, 4, 5, 5, 0, 5, 7, 2, 7,\n",
       "        6, 3, 9, 1, 9, 3, 9, 6, 5, 2, 2, 5, 6, 2, 3, 4, 1, 2, 3, 2, 2, 9, 7, 5,\n",
       "        9, 9, 2, 7, 4, 4, 9, 1, 9, 4, 7, 7, 5, 4, 7, 1, 5, 1, 2, 6, 6, 5, 5, 8,\n",
       "        4, 8, 1, 8, 6, 6, 2, 5, 8, 2, 2, 0, 2, 7, 9, 5, 8, 8, 0, 7, 1, 9, 7, 1,\n",
       "        9, 1, 0, 8, 7, 3, 1, 6, 3, 4, 7, 1, 6, 5, 1, 5, 8, 5, 4, 8, 8, 9, 8, 7,\n",
       "        2, 0, 3, 2, 6, 1, 6, 2, 4, 6, 2, 5, 5, 2, 0, 8, 7, 0, 6, 3, 8, 0, 7, 0,\n",
       "        0, 0, 0, 4, 6, 4, 7, 2, 3, 0, 7, 3, 4, 9, 2, 2])"
      ]
     },
     "execution_count": 27,
     "metadata": {},
     "output_type": "execute_result"
    }
   ],
   "source": [
    "b"
   ]
  },
  {
   "cell_type": "code",
   "execution_count": null,
   "metadata": {},
   "outputs": [],
   "source": []
  }
 ],
 "metadata": {
  "kernelspec": {
   "display_name": "Python 3",
   "language": "python",
   "name": "python3"
  },
  "language_info": {
   "codemirror_mode": {
    "name": "ipython",
    "version": 3
   },
   "file_extension": ".py",
   "mimetype": "text/x-python",
   "name": "python",
   "nbconvert_exporter": "python",
   "pygments_lexer": "ipython3",
   "version": "3.7.2"
  },
  "toc": {
   "base_numbering": 1,
   "nav_menu": {},
   "number_sections": true,
   "sideBar": true,
   "skip_h1_title": false,
   "title_cell": "Table of Contents",
   "title_sidebar": "Contents",
   "toc_cell": false,
   "toc_position": {},
   "toc_section_display": true,
   "toc_window_display": false
  }
 },
 "nbformat": 4,
 "nbformat_minor": 2
}

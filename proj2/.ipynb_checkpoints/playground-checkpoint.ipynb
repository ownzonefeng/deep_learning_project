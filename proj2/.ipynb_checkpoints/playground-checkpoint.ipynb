{
 "cells": [
  {
   "cell_type": "code",
   "execution_count": 1,
   "metadata": {},
   "outputs": [
    {
     "data": {
      "text/plain": [
       "<torch.autograd.grad_mode.set_grad_enabled at 0x7fec210da198>"
      ]
     },
     "execution_count": 1,
     "metadata": {},
     "output_type": "execute_result"
    }
   ],
   "source": [
    "from modules import *\n",
    "import torch\n",
    "from data import *\n",
    "torch.set_grad_enabled(False)"
   ]
  },
  {
   "cell_type": "code",
   "execution_count": 2,
   "metadata": {},
   "outputs": [],
   "source": [
    "train_loader = dataloader(10)\n",
    "test_loader = dataloader(10)"
   ]
  },
  {
   "cell_type": "code",
   "execution_count": 5,
   "metadata": {},
   "outputs": [],
   "source": [
    "model = Sequential(Linear(2, 25),\n",
    "                                   ReLU(), \n",
    "                                   Linear(25, 25),\n",
    "                                   ReLU(),\n",
    "                                   Linear(25, 25),\n",
    "                                   ReLU(),\n",
    "                                   Linear(25, 2),\n",
    "                                   tanh())\n",
    "loss_mse = LossMSE(model)\n",
    "optimizer = SGD(lr=1e-3, model=model)"
   ]
  },
  {
   "cell_type": "code",
   "execution_count": 4,
   "metadata": {},
   "outputs": [
    {
     "name": "stdout",
     "output_type": "stream",
     "text": [
      "torch.Size([10, 2]) torch.Size([10, 1]) torch.Size([10, 2])\n",
      "torch.Size([10, 2]) torch.Size([10, 1]) torch.Size([10, 2])\n",
      "torch.Size([10, 2]) torch.Size([10, 1]) torch.Size([10, 2])\n",
      "torch.Size([10, 2]) torch.Size([10, 1]) torch.Size([10, 2])\n",
      "torch.Size([10, 2]) torch.Size([10, 1]) torch.Size([10, 2])\n",
      "torch.Size([10, 2]) torch.Size([10, 1]) torch.Size([10, 2])\n",
      "torch.Size([10, 2]) torch.Size([10, 1]) torch.Size([10, 2])\n",
      "torch.Size([10, 2]) torch.Size([10, 1]) torch.Size([10, 2])\n",
      "torch.Size([10, 2]) torch.Size([10, 1]) torch.Size([10, 2])\n",
      "torch.Size([10, 2]) torch.Size([10, 1]) torch.Size([10, 2])\n",
      "torch.Size([10, 2]) torch.Size([10, 1]) torch.Size([10, 2])\n",
      "torch.Size([10, 2]) torch.Size([10, 1]) torch.Size([10, 2])\n",
      "torch.Size([10, 2]) torch.Size([10, 1]) torch.Size([10, 2])\n",
      "torch.Size([10, 2]) torch.Size([10, 1]) torch.Size([10, 2])\n",
      "torch.Size([10, 2]) torch.Size([10, 1]) torch.Size([10, 2])\n",
      "torch.Size([10, 2]) torch.Size([10, 1]) torch.Size([10, 2])\n",
      "torch.Size([10, 2]) torch.Size([10, 1]) torch.Size([10, 2])\n",
      "torch.Size([10, 2]) torch.Size([10, 1]) torch.Size([10, 2])\n",
      "torch.Size([10, 2]) torch.Size([10, 1]) torch.Size([10, 2])\n",
      "torch.Size([10, 2]) torch.Size([10, 1]) torch.Size([10, 2])\n",
      "torch.Size([10, 2]) torch.Size([10, 1]) torch.Size([10, 2])\n",
      "torch.Size([10, 2]) torch.Size([10, 1]) torch.Size([10, 2])\n",
      "torch.Size([10, 2]) torch.Size([10, 1]) torch.Size([10, 2])\n",
      "torch.Size([10, 2]) torch.Size([10, 1]) torch.Size([10, 2])\n",
      "torch.Size([10, 2]) torch.Size([10, 1]) torch.Size([10, 2])\n",
      "torch.Size([10, 2]) torch.Size([10, 1]) torch.Size([10, 2])\n",
      "torch.Size([10, 2]) torch.Size([10, 1]) torch.Size([10, 2])\n",
      "torch.Size([10, 2]) torch.Size([10, 1]) torch.Size([10, 2])\n",
      "torch.Size([10, 2]) torch.Size([10, 1]) torch.Size([10, 2])\n",
      "torch.Size([10, 2]) torch.Size([10, 1]) torch.Size([10, 2])\n",
      "torch.Size([10, 2]) torch.Size([10, 1]) torch.Size([10, 2])\n",
      "torch.Size([10, 2]) torch.Size([10, 1]) torch.Size([10, 2])\n",
      "torch.Size([10, 2]) torch.Size([10, 1]) torch.Size([10, 2])\n",
      "torch.Size([10, 2]) torch.Size([10, 1]) torch.Size([10, 2])\n",
      "torch.Size([10, 2]) torch.Size([10, 1]) torch.Size([10, 2])\n",
      "torch.Size([10, 2]) torch.Size([10, 1]) torch.Size([10, 2])\n",
      "torch.Size([10, 2]) torch.Size([10, 1]) torch.Size([10, 2])\n",
      "torch.Size([10, 2]) torch.Size([10, 1]) torch.Size([10, 2])\n",
      "torch.Size([10, 2]) torch.Size([10, 1]) torch.Size([10, 2])\n",
      "torch.Size([10, 2]) torch.Size([10, 1]) torch.Size([10, 2])\n",
      "torch.Size([10, 2]) torch.Size([10, 1]) torch.Size([10, 2])\n",
      "torch.Size([10, 2]) torch.Size([10, 1]) torch.Size([10, 2])\n",
      "torch.Size([10, 2]) torch.Size([10, 1]) torch.Size([10, 2])\n",
      "torch.Size([10, 2]) torch.Size([10, 1]) torch.Size([10, 2])\n",
      "torch.Size([10, 2]) torch.Size([10, 1]) torch.Size([10, 2])\n",
      "torch.Size([10, 2]) torch.Size([10, 1]) torch.Size([10, 2])\n",
      "torch.Size([10, 2]) torch.Size([10, 1]) torch.Size([10, 2])\n",
      "torch.Size([10, 2]) torch.Size([10, 1]) torch.Size([10, 2])\n",
      "torch.Size([10, 2]) torch.Size([10, 1]) torch.Size([10, 2])\n",
      "torch.Size([10, 2]) torch.Size([10, 1]) torch.Size([10, 2])\n",
      "torch.Size([10, 2]) torch.Size([10, 1]) torch.Size([10, 2])\n",
      "torch.Size([10, 2]) torch.Size([10, 1]) torch.Size([10, 2])\n",
      "torch.Size([10, 2]) torch.Size([10, 1]) torch.Size([10, 2])\n",
      "torch.Size([10, 2]) torch.Size([10, 1]) torch.Size([10, 2])\n",
      "torch.Size([10, 2]) torch.Size([10, 1]) torch.Size([10, 2])\n",
      "torch.Size([10, 2]) torch.Size([10, 1]) torch.Size([10, 2])\n",
      "torch.Size([10, 2]) torch.Size([10, 1]) torch.Size([10, 2])\n",
      "torch.Size([10, 2]) torch.Size([10, 1]) torch.Size([10, 2])\n",
      "torch.Size([10, 2]) torch.Size([10, 1]) torch.Size([10, 2])\n",
      "torch.Size([10, 2]) torch.Size([10, 1]) torch.Size([10, 2])\n",
      "torch.Size([10, 2]) torch.Size([10, 1]) torch.Size([10, 2])\n",
      "torch.Size([10, 2]) torch.Size([10, 1]) torch.Size([10, 2])\n",
      "torch.Size([10, 2]) torch.Size([10, 1]) torch.Size([10, 2])\n",
      "torch.Size([10, 2]) torch.Size([10, 1]) torch.Size([10, 2])\n",
      "torch.Size([10, 2]) torch.Size([10, 1]) torch.Size([10, 2])\n",
      "torch.Size([10, 2]) torch.Size([10, 1]) torch.Size([10, 2])\n",
      "torch.Size([10, 2]) torch.Size([10, 1]) torch.Size([10, 2])\n",
      "torch.Size([10, 2]) torch.Size([10, 1]) torch.Size([10, 2])\n",
      "torch.Size([10, 2]) torch.Size([10, 1]) torch.Size([10, 2])\n",
      "torch.Size([10, 2]) torch.Size([10, 1]) torch.Size([10, 2])\n",
      "torch.Size([10, 2]) torch.Size([10, 1]) torch.Size([10, 2])\n",
      "torch.Size([10, 2]) torch.Size([10, 1]) torch.Size([10, 2])\n",
      "torch.Size([10, 2]) torch.Size([10, 1]) torch.Size([10, 2])\n",
      "torch.Size([10, 2]) torch.Size([10, 1]) torch.Size([10, 2])\n",
      "torch.Size([10, 2]) torch.Size([10, 1]) torch.Size([10, 2])\n",
      "torch.Size([10, 2]) torch.Size([10, 1]) torch.Size([10, 2])\n",
      "torch.Size([10, 2]) torch.Size([10, 1]) torch.Size([10, 2])\n",
      "torch.Size([10, 2]) torch.Size([10, 1]) torch.Size([10, 2])\n",
      "torch.Size([10, 2]) torch.Size([10, 1]) torch.Size([10, 2])\n",
      "torch.Size([10, 2]) torch.Size([10, 1]) torch.Size([10, 2])\n",
      "torch.Size([10, 2]) torch.Size([10, 1]) torch.Size([10, 2])\n",
      "torch.Size([10, 2]) torch.Size([10, 1]) torch.Size([10, 2])\n",
      "torch.Size([10, 2]) torch.Size([10, 1]) torch.Size([10, 2])\n",
      "torch.Size([10, 2]) torch.Size([10, 1]) torch.Size([10, 2])\n",
      "torch.Size([10, 2]) torch.Size([10, 1]) torch.Size([10, 2])\n",
      "torch.Size([10, 2]) torch.Size([10, 1]) torch.Size([10, 2])\n",
      "torch.Size([10, 2]) torch.Size([10, 1]) torch.Size([10, 2])\n",
      "torch.Size([10, 2]) torch.Size([10, 1]) torch.Size([10, 2])\n",
      "torch.Size([10, 2]) torch.Size([10, 1]) torch.Size([10, 2])\n",
      "torch.Size([10, 2]) torch.Size([10, 1]) torch.Size([10, 2])\n",
      "torch.Size([10, 2]) torch.Size([10, 1]) torch.Size([10, 2])\n",
      "torch.Size([10, 2]) torch.Size([10, 1]) torch.Size([10, 2])\n",
      "torch.Size([10, 2]) torch.Size([10, 1]) torch.Size([10, 2])\n",
      "torch.Size([10, 2]) torch.Size([10, 1]) torch.Size([10, 2])\n",
      "torch.Size([10, 2]) torch.Size([10, 1]) torch.Size([10, 2])\n",
      "torch.Size([10, 2]) torch.Size([10, 1]) torch.Size([10, 2])\n",
      "torch.Size([10, 2]) torch.Size([10, 1]) torch.Size([10, 2])\n",
      "torch.Size([10, 2]) torch.Size([10, 1]) torch.Size([10, 2])\n",
      "torch.Size([10, 2]) torch.Size([10, 1]) torch.Size([10, 2])\n",
      "torch.Size([10, 2]) torch.Size([10, 1]) torch.Size([10, 2])\n"
     ]
    }
   ],
   "source": [
    "for x,label_1d,label_2d in train_loader:\n",
    "    pred = model(x)\n",
    "    loss = loss_mse(pred, x)\n",
    "    model.zero_grad()\n",
    "    loss_mse.backward()\n",
    "    optimizer.step()"
   ]
  },
  {
   "cell_type": "code",
   "execution_count": 5,
   "metadata": {},
   "outputs": [
    {
     "data": {
      "text/plain": [
       "tensor([[1.],\n",
       "        [1.],\n",
       "        [1.],\n",
       "        [0.],\n",
       "        [1.],\n",
       "        [1.],\n",
       "        [0.],\n",
       "        [0.],\n",
       "        [0.],\n",
       "        [1.]])"
      ]
     },
     "execution_count": 5,
     "metadata": {},
     "output_type": "execute_result"
    }
   ],
   "source": [
    "label_2dto1d(k)"
   ]
  },
  {
   "cell_type": "code",
   "execution_count": 6,
   "metadata": {},
   "outputs": [
    {
     "data": {
      "text/plain": [
       "tensor([[ 1.,  1.],\n",
       "        [ 1.,  1.],\n",
       "        [ 1.,  1.],\n",
       "        [-1., -1.],\n",
       "        [ 1.,  1.],\n",
       "        [ 1.,  1.],\n",
       "        [-1., -1.],\n",
       "        [-1., -1.],\n",
       "        [-1., -1.],\n",
       "        [ 1.,  1.]])"
      ]
     },
     "execution_count": 6,
     "metadata": {},
     "output_type": "execute_result"
    }
   ],
   "source": [
    "k"
   ]
  },
  {
   "cell_type": "code",
   "execution_count": null,
   "metadata": {},
   "outputs": [],
   "source": []
  }
 ],
 "metadata": {
  "kernelspec": {
   "display_name": "Python 3",
   "language": "python",
   "name": "python3"
  },
  "language_info": {
   "codemirror_mode": {
    "name": "ipython",
    "version": 3
   },
   "file_extension": ".py",
   "mimetype": "text/x-python",
   "name": "python",
   "nbconvert_exporter": "python",
   "pygments_lexer": "ipython3",
   "version": "3.5.2"
  }
 },
 "nbformat": 4,
 "nbformat_minor": 2
}
